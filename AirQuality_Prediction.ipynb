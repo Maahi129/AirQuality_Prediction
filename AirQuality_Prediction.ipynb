{
 "cells": [
  {
   "cell_type": "markdown",
   "id": "9c03be42",
   "metadata": {},
   "source": [
    "# AIR QUALITY PREDICTION"
   ]
  },
  {
   "cell_type": "code",
   "execution_count": 56,
   "id": "5dd76150",
   "metadata": {},
   "outputs": [],
   "source": [
    "import pandas as pd\n",
    "\n",
    "data = pd.DataFrame(                         # Creating Our Own Data \n",
    "{\n",
    "    'PM2.5-AVG' : [190,188,280,302,285],\n",
    "    'PM10-AVG'  : [131,131,174,181,121],\n",
    "    'N02-AVG'   : [107,110,155,144,121],\n",
    "    'NH3-AVG'   : [4,4,2,2,3],\n",
    "    'SO2-AG'    : [42,40,37,39,19],\n",
    "    'CO'        : [0,0,0,0,0],\n",
    "    'OZONE-AVG' : [63,62,52,78,71],\n",
    "    'air_quality_index' : [190,188,280,302,285],\n",
    "})   "
   ]
  },
  {
   "cell_type": "markdown",
   "id": "256d2e78",
   "metadata": {},
   "source": [
    "### It contains 8 attributes of which 7 are chemical pollution quantities and one is Air Quality Index.\n",
    "### air_quality_index is dependent attribute remaining are independent attributes\n",
    "* AQI LEVEL      :           AQI RANGE\n",
    "* Good           :               0-50\n",
    "* Moderate       :              51-100\n",
    "* Unhealthy      :              101-150\n",
    "* Unhealthy for strong people:  151-200\n",
    "* Hazardous                  :  201+"
   ]
  },
  {
   "cell_type": "code",
   "execution_count": 57,
   "id": "d1916c2f",
   "metadata": {},
   "outputs": [],
   "source": [
    "from sklearn.ensemble import RandomForestRegressor"
   ]
  },
  {
   "cell_type": "code",
   "execution_count": 58,
   "id": "382f9f6d",
   "metadata": {},
   "outputs": [
    {
     "data": {
      "text/html": [
       "<div>\n",
       "<style scoped>\n",
       "    .dataframe tbody tr th:only-of-type {\n",
       "        vertical-align: middle;\n",
       "    }\n",
       "\n",
       "    .dataframe tbody tr th {\n",
       "        vertical-align: top;\n",
       "    }\n",
       "\n",
       "    .dataframe thead th {\n",
       "        text-align: right;\n",
       "    }\n",
       "</style>\n",
       "<table border=\"1\" class=\"dataframe\">\n",
       "  <thead>\n",
       "    <tr style=\"text-align: right;\">\n",
       "      <th></th>\n",
       "      <th>PM2.5-AVG</th>\n",
       "      <th>PM10-AVG</th>\n",
       "      <th>N02-AVG</th>\n",
       "      <th>NH3-AVG</th>\n",
       "      <th>SO2-AG</th>\n",
       "      <th>CO</th>\n",
       "      <th>OZONE-AVG</th>\n",
       "      <th>air_quality_index</th>\n",
       "    </tr>\n",
       "  </thead>\n",
       "  <tbody>\n",
       "    <tr>\n",
       "      <th>0</th>\n",
       "      <td>190</td>\n",
       "      <td>131</td>\n",
       "      <td>107</td>\n",
       "      <td>4</td>\n",
       "      <td>42</td>\n",
       "      <td>0</td>\n",
       "      <td>63</td>\n",
       "      <td>190</td>\n",
       "    </tr>\n",
       "    <tr>\n",
       "      <th>1</th>\n",
       "      <td>188</td>\n",
       "      <td>131</td>\n",
       "      <td>110</td>\n",
       "      <td>4</td>\n",
       "      <td>40</td>\n",
       "      <td>0</td>\n",
       "      <td>62</td>\n",
       "      <td>188</td>\n",
       "    </tr>\n",
       "    <tr>\n",
       "      <th>2</th>\n",
       "      <td>280</td>\n",
       "      <td>174</td>\n",
       "      <td>155</td>\n",
       "      <td>2</td>\n",
       "      <td>37</td>\n",
       "      <td>0</td>\n",
       "      <td>52</td>\n",
       "      <td>280</td>\n",
       "    </tr>\n",
       "    <tr>\n",
       "      <th>3</th>\n",
       "      <td>302</td>\n",
       "      <td>181</td>\n",
       "      <td>144</td>\n",
       "      <td>2</td>\n",
       "      <td>39</td>\n",
       "      <td>0</td>\n",
       "      <td>78</td>\n",
       "      <td>302</td>\n",
       "    </tr>\n",
       "    <tr>\n",
       "      <th>4</th>\n",
       "      <td>285</td>\n",
       "      <td>121</td>\n",
       "      <td>121</td>\n",
       "      <td>3</td>\n",
       "      <td>19</td>\n",
       "      <td>0</td>\n",
       "      <td>71</td>\n",
       "      <td>285</td>\n",
       "    </tr>\n",
       "  </tbody>\n",
       "</table>\n",
       "</div>"
      ],
      "text/plain": [
       "   PM2.5-AVG  PM10-AVG  N02-AVG  NH3-AVG  SO2-AG  CO  OZONE-AVG  \\\n",
       "0        190       131      107        4      42   0         63   \n",
       "1        188       131      110        4      40   0         62   \n",
       "2        280       174      155        2      37   0         52   \n",
       "3        302       181      144        2      39   0         78   \n",
       "4        285       121      121        3      19   0         71   \n",
       "\n",
       "   air_quality_index  \n",
       "0                190  \n",
       "1                188  \n",
       "2                280  \n",
       "3                302  \n",
       "4                285  "
      ]
     },
     "execution_count": 58,
     "metadata": {},
     "output_type": "execute_result"
    }
   ],
   "source": [
    "data"
   ]
  },
  {
   "cell_type": "code",
   "execution_count": 59,
   "id": "cd35fe27",
   "metadata": {},
   "outputs": [],
   "source": [
    "r1 = RandomForestRegressor()"
   ]
  },
  {
   "cell_type": "code",
   "execution_count": 60,
   "id": "7cf0ce08",
   "metadata": {},
   "outputs": [
    {
     "data": {
      "text/plain": [
       "RandomForestRegressor()"
      ]
     },
     "execution_count": 60,
     "metadata": {},
     "output_type": "execute_result"
    }
   ],
   "source": [
    "train = data.drop(['air_quality_index'], axis = 1)\n",
    "target = data['air_quality_index']\n",
    "\n",
    "r1.fit(train, target)    # Fitting the data"
   ]
  },
  {
   "cell_type": "code",
   "execution_count": 61,
   "id": "c4f2c56d",
   "metadata": {},
   "outputs": [
    {
     "data": {
      "text/plain": [
       "94.83332164982068"
      ]
     },
     "execution_count": 61,
     "metadata": {},
     "output_type": "execute_result"
    }
   ],
   "source": [
    "r1.score(train,target) * 100"
   ]
  },
  {
   "cell_type": "code",
   "execution_count": 62,
   "id": "254f741e",
   "metadata": {},
   "outputs": [
    {
     "data": {
      "text/plain": [
       "array([220.12])"
      ]
     },
     "execution_count": 62,
     "metadata": {},
     "output_type": "execute_result"
    }
   ],
   "source": [
    "# Predicting\n",
    "\n",
    "r1.predict([[123,45,67,89,35,78,23]])"
   ]
  },
  {
   "cell_type": "code",
   "execution_count": 63,
   "id": "d8baa0dd",
   "metadata": {},
   "outputs": [],
   "source": [
    "from sklearn.ensemble import AdaBoostRegressor"
   ]
  },
  {
   "cell_type": "code",
   "execution_count": 64,
   "id": "c31781b3",
   "metadata": {},
   "outputs": [
    {
     "data": {
      "text/plain": [
       "100.0"
      ]
     },
     "execution_count": 64,
     "metadata": {},
     "output_type": "execute_result"
    }
   ],
   "source": [
    "r2 = AdaBoostRegressor()\n",
    "\n",
    "r2.fit(train, target)    # Fitting the data\n",
    "\n",
    "r2.score(train, target) * 100  # Score"
   ]
  },
  {
   "cell_type": "code",
   "execution_count": 65,
   "id": "a520836b",
   "metadata": {},
   "outputs": [
    {
     "data": {
      "text/plain": [
       "array([190.])"
      ]
     },
     "execution_count": 65,
     "metadata": {},
     "output_type": "execute_result"
    }
   ],
   "source": [
    "# predicting\n",
    "r2.predict([[123,67,80,78,45,45,29]])  # Predicting with our own values"
   ]
  },
  {
   "cell_type": "code",
   "execution_count": null,
   "id": "3b1ef3eb",
   "metadata": {},
   "outputs": [],
   "source": []
  }
 ],
 "metadata": {
  "kernelspec": {
   "display_name": "Python 3 (ipykernel)",
   "language": "python",
   "name": "python3"
  },
  "language_info": {
   "codemirror_mode": {
    "name": "ipython",
    "version": 3
   },
   "file_extension": ".py",
   "mimetype": "text/x-python",
   "name": "python",
   "nbconvert_exporter": "python",
   "pygments_lexer": "ipython3",
   "version": "3.9.7"
  }
 },
 "nbformat": 4,
 "nbformat_minor": 5
}
